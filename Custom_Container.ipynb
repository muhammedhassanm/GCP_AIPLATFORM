{
 "cells": [
  {
   "cell_type": "code",
   "execution_count": 1,
   "id": "4acd601d",
   "metadata": {},
   "outputs": [
    {
     "name": "stdout",
     "output_type": "stream",
     "text": [
      "--2021-09-06 06:18:42--  https://archive.ics.uci.edu/ml/machine-learning-databases/iris/iris.data\n",
      "Resolving archive.ics.uci.edu (archive.ics.uci.edu)... 128.195.10.252\n",
      "Connecting to archive.ics.uci.edu (archive.ics.uci.edu)|128.195.10.252|:443... connected.\n",
      "HTTP request sent, awaiting response... 200 OK\n",
      "Length: 4551 (4.4K) [application/x-httpd-php]\n",
      "Saving to: ‘iris.data’\n",
      "\n",
      "iris.data           100%[===================>]   4.44K  --.-KB/s    in 0s      \n",
      "\n",
      "2021-09-06 06:18:43 (184 MB/s) - ‘iris.data’ saved [4551/4551]\n",
      "\n"
     ]
    }
   ],
   "source": [
    "!wget https://archive.ics.uci.edu/ml/machine-learning-databases/iris/iris.data\n",
    "!mv iris.data iris.csv"
   ]
  },
  {
   "cell_type": "code",
   "execution_count": 5,
   "id": "f11168cc",
   "metadata": {},
   "outputs": [
    {
     "name": "stdout",
     "output_type": "stream",
     "text": [
      "Creating gs://hassan-ai-platform-temp/...\n",
      "ServiceException: 409 A Cloud Storage bucket named 'hassan-ai-platform-temp' already exists. Try another name. Bucket names must be globally unique across all Google Cloud projects, including those outside of your organization.\n",
      "Copying file://./iris.csv [Content-Type=text/csv]...\n",
      "/ [1 files][  4.4 KiB/  4.4 KiB]                                                \n",
      "Operation completed over 1 objects/4.4 KiB.                                      \n"
     ]
    }
   ],
   "source": [
    "BUCKET_NAME = 'hassan-ai-platform-temp'\n",
    "!gsutil mb gs://$BUCKET_NAME\n",
    "!gsutil cp ./iris.csv gs://$BUCKET_NAME"
   ]
  },
  {
   "cell_type": "code",
   "execution_count": 43,
   "id": "cc75f8b3",
   "metadata": {},
   "outputs": [],
   "source": [
    "!mkdir ai_platform_training_custom_container\n",
    "TRAINING_APP_FOLDER = 'ai_platform_training_custom_container'"
   ]
  },
  {
   "cell_type": "code",
   "execution_count": 9,
   "id": "e0696d7f",
   "metadata": {},
   "outputs": [
    {
     "name": "stdout",
     "output_type": "stream",
     "text": [
      "/home/jupyter\n"
     ]
    }
   ],
   "source": [
    "%pwd\n",
    "%cd ..\n"
   ]
  },
  {
   "cell_type": "raw",
   "id": "d6ba59bc",
   "metadata": {},
   "source": [
    "%%writefile ./ai_platform_training_custom_container/train.py\n",
    "# pip install scikit-learn==0.20.4 for this demo to run succesfully\n",
    "# Libraries \n",
    "import datetime\n",
    "import os\n",
    "import subprocess\n",
    "import sys\n",
    "import pandas as pd\n",
    "from sklearn import svm\n",
    "from sklearn.externals import joblib\n",
    "from google.cloud import storage\n",
    "import sklearn\n",
    "print('sklearn: {}'.format(sklearn.__version__))\n",
    "# Create a Cloud Storage client to download the data a nd upload the model\n",
    "storage_client = storage.Client()\n",
    "# Download the data\n",
    "public_bucket = storage_client.bucket('hassan-ai-platform-temp')\n",
    "blob = public_bucket.blob('iris.csv')\n",
    "blob.download_to_filename('iris.csv')\n",
    "#Read the training data from the file\n",
    "iris_data = pd.read_csv('./iris.csv',sep=',',names=[\"sepal_length\", \"sepal_width\", \"petal_length\",\"petal_width\",\"species\"])\n",
    "#Assigning the classes and removing the target variable \n",
    "iris_label = iris_data.pop('species')\n",
    "#We're going to be using the SVC (support vector classifier) SVM (support vector machine)\n",
    "classifier = svm.SVC(gamma='auto')\n",
    "#Training the model\n",
    "classifier.fit(iris_data, iris_label)\n",
    "#Saving the data locally\n",
    "model_filename = 'model.joblib'\n",
    "joblib.dump(classifier, model_filename)\n",
    "# Create a Cloud Storage client to upload the model\n",
    "bucket = storage_client.bucket('hassan-ai-platform-temp')\n",
    "blob = bucket.blob(model_filename)\n",
    "blob.upload_from_filename(model_filename)"
   ]
  },
  {
   "cell_type": "markdown",
   "id": "9684b945",
   "metadata": {},
   "source": [
    "## Docker File"
   ]
  },
  {
   "cell_type": "code",
   "execution_count": 10,
   "id": "76a146eb",
   "metadata": {},
   "outputs": [
    {
     "name": "stdout",
     "output_type": "stream",
     "text": [
      "Overwriting ./ai_platform_training_custom_container/Dockerfile\n"
     ]
    }
   ],
   "source": [
    "%%writefile ./ai_platform_training_custom_container/Dockerfile\n",
    "FROM gcr.io/deeplearning-platform-release/base-cpu\n",
    "RUN pip install -U scikit-learn==0.20.4 pandas==0.24.2\n",
    "WORKDIR /app\n",
    "COPY train.py .\n",
    "ENTRYPOINT [\"python\", \"train.py\"]"
   ]
  },
  {
   "cell_type": "code",
   "execution_count": 11,
   "id": "22fd2898",
   "metadata": {},
   "outputs": [
    {
     "name": "stdout",
     "output_type": "stream",
     "text": [
      "\u001b[1;31mERROR:\u001b[0m (gcloud.builds.submit) argument --tag/-t: expected one argument\n",
      "Usage: gcloud builds submit [[SOURCE] --no-source] [optional flags]\n",
      "  optional flags may be  --async | --no-cache | --config | --disk-size |\n",
      "                         --gcs-log-dir | --gcs-source-staging-dir | --help |\n",
      "                         --ignore-file | --machine-type | --pack | --region |\n",
      "                         --no-source | --substitutions | --suppress-logs |\n",
      "                         --tag | --timeout | --worker-pool\n",
      "\n",
      "For detailed information on this command and its flags, run:\n",
      "  gcloud builds submit --help\n"
     ]
    }
   ],
   "source": [
    "PROJECT_ID='qp-acc-aia-migrate-2021-06'\n",
    "IMAGE_NAME='ai_platform_training_custom_container_image'\n",
    "IMAGE_TAG='latest'\n",
    "IMAGE_URI='gcr.io/{}/{}:{}'.format(PROJECT_ID, IMAGE_NAME, IMAGE_TAG)\n",
    "!gcloud builds submit --tag $IMAGE_URI $TRAINING_APP_FOLDER"
   ]
  },
  {
   "cell_type": "code",
   "execution_count": 12,
   "id": "8182bc47",
   "metadata": {},
   "outputs": [
    {
     "name": "stdout",
     "output_type": "stream",
     "text": [
      "gcr.io/qp-acc-aia-migrate-2021-06/ai_platform_training_custom_container_image:latest\n",
      "\u001b[1;31mERROR:\u001b[0m (gcloud.ai-platform.jobs.submit.training) Resource in projects [qp-acc-aia-migrate-2021-06] is the subject of a conflict: Field: job.job_id Error: A job with this id already exists.\n",
      "- '@type': type.googleapis.com/google.rpc.BadRequest\n",
      "  fieldViolations:\n",
      "  - description: A job with this id already exists.\n",
      "    field: job.job_id\n"
     ]
    }
   ],
   "source": [
    "import time\n",
    "print(IMAGE_URI)\n",
    "JOB_NAME = \"Iris_data_custom_container_job\"\n",
    "JOB_DIR = 'gs://' + BUCKET_NAME + '/iris-job-custom-container-dir'\n",
    "REGION = 'us-west1'\n",
    "!gcloud ai-platform jobs submit training $JOB_NAME \\\n",
    "--region=$REGION \\\n",
    "--job-dir=$JOB_DIR \\\n",
    "--master-image-uri=$IMAGE_URI \\\n",
    "--scale-tier=BASIC"
   ]
  },
  {
   "cell_type": "code",
   "execution_count": 52,
   "id": "739b8945",
   "metadata": {},
   "outputs": [
    {
     "name": "stdout",
     "output_type": "stream",
     "text": [
      "createTime: '2021-08-26T13:17:21Z'\n",
      "etag: HfD_hO217bU=\n",
      "jobId: Iris_data_custom_container_job\n",
      "state: PREPARING\n",
      "trainingInput:\n",
      "  jobDir: gs://hassan-ai-platform-temp/iris-job-custom-container-dir\n",
      "  masterConfig:\n",
      "    imageUri: gcr.io/qp-acc-aia-migrate-2021-06/ai_platform_training_custom_container_image:latest\n",
      "  region: us-west1\n",
      "trainingOutput: {}\n",
      "\n",
      "View job in the Cloud Console at:\n",
      "https://console.cloud.google.com/mlengine/jobs/Iris_data_custom_container_job?project=qp-acc-aia-migrate-2021-06\n",
      "\n",
      "View logs at:\n",
      "https://console.cloud.google.com/logs?resource=ml_job%2Fjob_id%2FIris_data_custom_container_job&project=qp-acc-aia-migrate-2021-06\n"
     ]
    }
   ],
   "source": [
    "!gcloud ai-platform jobs describe Iris_data_custom_container_job"
   ]
  },
  {
   "cell_type": "code",
   "execution_count": 29,
   "id": "3d92d76b",
   "metadata": {},
   "outputs": [
    {
     "name": "stdout",
     "output_type": "stream",
     "text": [
      "Using endpoint [https://ml.googleapis.com/]\n",
      "Created ai platform model [projects/qp-acc-aia-migrate-2021-06/models/iris_model].\n"
     ]
    }
   ],
   "source": [
    "MODEL_NAME = \"iris_model\"\n",
    "REGION = 'us-central1'\n",
    "! gcloud ai-platform models create $MODEL_NAME \\\n",
    "  --regions $REGION\n"
   ]
  },
  {
   "cell_type": "code",
   "execution_count": 30,
   "id": "ff68f83e",
   "metadata": {},
   "outputs": [
    {
     "name": "stdout",
     "output_type": "stream",
     "text": [
      "iris_model\n"
     ]
    }
   ],
   "source": [
    "print(MODEL_NAME)"
   ]
  },
  {
   "cell_type": "code",
   "execution_count": 22,
   "id": "104d9f5f",
   "metadata": {},
   "outputs": [
    {
     "name": "stdout",
     "output_type": "stream",
     "text": [
      "gs://hassan-ai-platform-temp/model.joblib\n"
     ]
    }
   ],
   "source": [
    "BUCKET_NAME = 'hassan-ai-platform-temp'\n",
    "MODEL_VERSION = \"container_model_v1\"\n",
    "REGION ='us-central1'\n",
    "JOB_DIR = 'gs://' + BUCKET_NAME\n",
    "# Get a list of directories in the `keras_export` parent directory\n",
    "KERAS_EXPORT_DIRS = ! gsutil ls $JOB_DIR\n",
    "print(KERAS_EXPORT_DIRS[2])\n"
   ]
  },
  {
   "cell_type": "code",
   "execution_count": 23,
   "id": "55f3df4a",
   "metadata": {},
   "outputs": [
    {
     "name": "stdout",
     "output_type": "stream",
     "text": [
      "Using endpoint [https://us-central1-ml.googleapis.com/]\n",
      "\u001b[1;31mERROR:\u001b[0m (gcloud.ai-platform.versions.create) NOT_FOUND: Field: parent Error: The model resource: \"[iris_model]\" was not found. Please create the model resource first by using 'gcloud ai-platform models create [iris_model]'.\n",
      "- '@type': type.googleapis.com/google.rpc.BadRequest\n",
      "  fieldViolations:\n",
      "  - description: \"The model resource: \\\"[iris_model]\\\" was not found. Please create\\\n",
      "      \\ the model resource first by using 'gcloud ai-platform models create [iris_model]'.\"\n",
      "    field: parent\n"
     ]
    }
   ],
   "source": [
    "\n",
    "\n",
    "# Pick the directory with the latest timestamp, in case you've trained\n",
    "# multiple times\n",
    "SAVED_MODEL_PATH = KERAS_EXPORT_DIRS[0]\n",
    "\n",
    "# Create model version based on that SavedModel directory\n",
    "! gcloud ai-platform versions create $MODEL_VERSION \\\n",
    "  --model $MODEL_NAME \\\n",
    "  --runtime-version 1.15 \\\n",
    "  --python-version 3.7 \\\n",
    "  --framework tensorflow \\\n",
    "  --region $REGION \\\n",
    "  --origin $SAVED_MODEL_PATH"
   ]
  },
  {
   "cell_type": "code",
   "execution_count": 40,
   "id": "8247a8de",
   "metadata": {},
   "outputs": [],
   "source": [
    "MODEL_DIR=\"gs://hassan-ai-platform-temp/\"\n",
    "VERSION_NAME=\"[container_model_v1]\"\n",
    "MODEL_NAME=\"[iris_model]\"\n",
    "FRAMEWORK=\"[scikit-learn]\"\n",
    "REGION = 'us-central1'\n",
    "CUSTOM_CODE_PATH=\"gs://hassan-ai-platform-temp/custom-container-job-dir/packages/1d4998efa973ab08e9ad7150a514e07355ec17232eedba5dc4770284d32a762a/trainer-0.0.0.tar.gz\"\n",
    "PREDICTOR_CLASS=\"[train].[CLASS_NAME]\""
   ]
  },
  {
   "cell_type": "code",
   "execution_count": 42,
   "id": "87c39329",
   "metadata": {},
   "outputs": [
    {
     "name": "stdout",
     "output_type": "stream",
     "text": [
      "Using endpoint [https://us-central1-ml.googleapis.com/]\n",
      "\u001b[1;31mERROR:\u001b[0m (gcloud.beta.ai-platform.versions.create) NOT_FOUND: Field: parent Error: The model resource: \"[iris_model]\" was not found. Please create the model resource first by using 'gcloud ai-platform models create [iris_model]'.\n",
      "- '@type': type.googleapis.com/google.rpc.BadRequest\n",
      "  fieldViolations:\n",
      "  - description: \"The model resource: \\\"[iris_model]\\\" was not found. Please create\\\n",
      "      \\ the model resource first by using 'gcloud ai-platform models create [iris_model]'.\"\n",
      "    field: parent\n"
     ]
    }
   ],
   "source": [
    "!gcloud beta ai-platform versions create $VERSION_NAME \\\n",
    "  --model=$MODEL_NAME \\\n",
    "  --origin=$MODEL_DIR \\\n",
    "  --runtime-version=2.5 \\\n",
    "  --python-version=3.7 \\\n",
    "  --region=$REGION \\\n",
    "  --package-uris=$CUSTOM_CODE_PATH"
   ]
  },
  {
   "cell_type": "markdown",
   "id": "248d279e",
   "metadata": {},
   "source": [
    "## Prediction"
   ]
  },
  {
   "cell_type": "code",
   "execution_count": 34,
   "id": "6f5a67f5",
   "metadata": {},
   "outputs": [
    {
     "name": "stdout",
     "output_type": "stream",
     "text": [
      "/home/jupyter/ai_platform_training_custom_container\n"
     ]
    }
   ],
   "source": [
    "%pwd\n",
    "%cd ai_platform_training_custom_container/"
   ]
  },
  {
   "cell_type": "code",
   "execution_count": 26,
   "id": "dd7a4b57",
   "metadata": {},
   "outputs": [],
   "source": [
    "# !gsutil cp ./Iris_test.csv gs://$BUCKET_NAME\n",
    "import pandas as pd\n",
    "prediction_input = pd.read_csv('./iris.csv')"
   ]
  },
  {
   "cell_type": "code",
   "execution_count": 27,
   "id": "2cfdbd0a",
   "metadata": {},
   "outputs": [
    {
     "data": {
      "text/html": [
       "<div>\n",
       "<style scoped>\n",
       "    .dataframe tbody tr th:only-of-type {\n",
       "        vertical-align: middle;\n",
       "    }\n",
       "\n",
       "    .dataframe tbody tr th {\n",
       "        vertical-align: top;\n",
       "    }\n",
       "\n",
       "    .dataframe thead th {\n",
       "        text-align: right;\n",
       "    }\n",
       "</style>\n",
       "<table border=\"1\" class=\"dataframe\">\n",
       "  <thead>\n",
       "    <tr style=\"text-align: right;\">\n",
       "      <th></th>\n",
       "      <th>5.1</th>\n",
       "      <th>3.5</th>\n",
       "      <th>1.4</th>\n",
       "      <th>0.2</th>\n",
       "      <th>Iris-setosa</th>\n",
       "    </tr>\n",
       "  </thead>\n",
       "  <tbody>\n",
       "    <tr>\n",
       "      <th>0</th>\n",
       "      <td>4.9</td>\n",
       "      <td>3.0</td>\n",
       "      <td>1.4</td>\n",
       "      <td>0.2</td>\n",
       "      <td>Iris-setosa</td>\n",
       "    </tr>\n",
       "    <tr>\n",
       "      <th>1</th>\n",
       "      <td>4.7</td>\n",
       "      <td>3.2</td>\n",
       "      <td>1.3</td>\n",
       "      <td>0.2</td>\n",
       "      <td>Iris-setosa</td>\n",
       "    </tr>\n",
       "    <tr>\n",
       "      <th>2</th>\n",
       "      <td>4.6</td>\n",
       "      <td>3.1</td>\n",
       "      <td>1.5</td>\n",
       "      <td>0.2</td>\n",
       "      <td>Iris-setosa</td>\n",
       "    </tr>\n",
       "    <tr>\n",
       "      <th>3</th>\n",
       "      <td>5.0</td>\n",
       "      <td>3.6</td>\n",
       "      <td>1.4</td>\n",
       "      <td>0.2</td>\n",
       "      <td>Iris-setosa</td>\n",
       "    </tr>\n",
       "    <tr>\n",
       "      <th>4</th>\n",
       "      <td>5.4</td>\n",
       "      <td>3.9</td>\n",
       "      <td>1.7</td>\n",
       "      <td>0.4</td>\n",
       "      <td>Iris-setosa</td>\n",
       "    </tr>\n",
       "    <tr>\n",
       "      <th>...</th>\n",
       "      <td>...</td>\n",
       "      <td>...</td>\n",
       "      <td>...</td>\n",
       "      <td>...</td>\n",
       "      <td>...</td>\n",
       "    </tr>\n",
       "    <tr>\n",
       "      <th>144</th>\n",
       "      <td>6.7</td>\n",
       "      <td>3.0</td>\n",
       "      <td>5.2</td>\n",
       "      <td>2.3</td>\n",
       "      <td>Iris-virginica</td>\n",
       "    </tr>\n",
       "    <tr>\n",
       "      <th>145</th>\n",
       "      <td>6.3</td>\n",
       "      <td>2.5</td>\n",
       "      <td>5.0</td>\n",
       "      <td>1.9</td>\n",
       "      <td>Iris-virginica</td>\n",
       "    </tr>\n",
       "    <tr>\n",
       "      <th>146</th>\n",
       "      <td>6.5</td>\n",
       "      <td>3.0</td>\n",
       "      <td>5.2</td>\n",
       "      <td>2.0</td>\n",
       "      <td>Iris-virginica</td>\n",
       "    </tr>\n",
       "    <tr>\n",
       "      <th>147</th>\n",
       "      <td>6.2</td>\n",
       "      <td>3.4</td>\n",
       "      <td>5.4</td>\n",
       "      <td>2.3</td>\n",
       "      <td>Iris-virginica</td>\n",
       "    </tr>\n",
       "    <tr>\n",
       "      <th>148</th>\n",
       "      <td>5.9</td>\n",
       "      <td>3.0</td>\n",
       "      <td>5.1</td>\n",
       "      <td>1.8</td>\n",
       "      <td>Iris-virginica</td>\n",
       "    </tr>\n",
       "  </tbody>\n",
       "</table>\n",
       "<p>149 rows × 5 columns</p>\n",
       "</div>"
      ],
      "text/plain": [
       "     5.1  3.5  1.4  0.2     Iris-setosa\n",
       "0    4.9  3.0  1.4  0.2     Iris-setosa\n",
       "1    4.7  3.2  1.3  0.2     Iris-setosa\n",
       "2    4.6  3.1  1.5  0.2     Iris-setosa\n",
       "3    5.0  3.6  1.4  0.2     Iris-setosa\n",
       "4    5.4  3.9  1.7  0.4     Iris-setosa\n",
       "..   ...  ...  ...  ...             ...\n",
       "144  6.7  3.0  5.2  2.3  Iris-virginica\n",
       "145  6.3  2.5  5.0  1.9  Iris-virginica\n",
       "146  6.5  3.0  5.2  2.0  Iris-virginica\n",
       "147  6.2  3.4  5.4  2.3  Iris-virginica\n",
       "148  5.9  3.0  5.1  1.8  Iris-virginica\n",
       "\n",
       "[149 rows x 5 columns]"
      ]
     },
     "execution_count": 27,
     "metadata": {},
     "output_type": "execute_result"
    }
   ],
   "source": [
    "prediction_input1"
   ]
  },
  {
   "cell_type": "code",
   "execution_count": 28,
   "id": "08b9d071",
   "metadata": {},
   "outputs": [],
   "source": [
    "prediction_input = prediction_input.iloc[:, :-1]"
   ]
  },
  {
   "cell_type": "code",
   "execution_count": 29,
   "id": "358f8d2d",
   "metadata": {},
   "outputs": [
    {
     "data": {
      "text/html": [
       "<div>\n",
       "<style scoped>\n",
       "    .dataframe tbody tr th:only-of-type {\n",
       "        vertical-align: middle;\n",
       "    }\n",
       "\n",
       "    .dataframe tbody tr th {\n",
       "        vertical-align: top;\n",
       "    }\n",
       "\n",
       "    .dataframe thead th {\n",
       "        text-align: right;\n",
       "    }\n",
       "</style>\n",
       "<table border=\"1\" class=\"dataframe\">\n",
       "  <thead>\n",
       "    <tr style=\"text-align: right;\">\n",
       "      <th></th>\n",
       "      <th>5.1</th>\n",
       "      <th>3.5</th>\n",
       "      <th>1.4</th>\n",
       "      <th>0.2</th>\n",
       "    </tr>\n",
       "  </thead>\n",
       "  <tbody>\n",
       "    <tr>\n",
       "      <th>0</th>\n",
       "      <td>4.9</td>\n",
       "      <td>3.0</td>\n",
       "      <td>1.4</td>\n",
       "      <td>0.2</td>\n",
       "    </tr>\n",
       "    <tr>\n",
       "      <th>1</th>\n",
       "      <td>4.7</td>\n",
       "      <td>3.2</td>\n",
       "      <td>1.3</td>\n",
       "      <td>0.2</td>\n",
       "    </tr>\n",
       "    <tr>\n",
       "      <th>2</th>\n",
       "      <td>4.6</td>\n",
       "      <td>3.1</td>\n",
       "      <td>1.5</td>\n",
       "      <td>0.2</td>\n",
       "    </tr>\n",
       "    <tr>\n",
       "      <th>3</th>\n",
       "      <td>5.0</td>\n",
       "      <td>3.6</td>\n",
       "      <td>1.4</td>\n",
       "      <td>0.2</td>\n",
       "    </tr>\n",
       "    <tr>\n",
       "      <th>4</th>\n",
       "      <td>5.4</td>\n",
       "      <td>3.9</td>\n",
       "      <td>1.7</td>\n",
       "      <td>0.4</td>\n",
       "    </tr>\n",
       "    <tr>\n",
       "      <th>...</th>\n",
       "      <td>...</td>\n",
       "      <td>...</td>\n",
       "      <td>...</td>\n",
       "      <td>...</td>\n",
       "    </tr>\n",
       "    <tr>\n",
       "      <th>144</th>\n",
       "      <td>6.7</td>\n",
       "      <td>3.0</td>\n",
       "      <td>5.2</td>\n",
       "      <td>2.3</td>\n",
       "    </tr>\n",
       "    <tr>\n",
       "      <th>145</th>\n",
       "      <td>6.3</td>\n",
       "      <td>2.5</td>\n",
       "      <td>5.0</td>\n",
       "      <td>1.9</td>\n",
       "    </tr>\n",
       "    <tr>\n",
       "      <th>146</th>\n",
       "      <td>6.5</td>\n",
       "      <td>3.0</td>\n",
       "      <td>5.2</td>\n",
       "      <td>2.0</td>\n",
       "    </tr>\n",
       "    <tr>\n",
       "      <th>147</th>\n",
       "      <td>6.2</td>\n",
       "      <td>3.4</td>\n",
       "      <td>5.4</td>\n",
       "      <td>2.3</td>\n",
       "    </tr>\n",
       "    <tr>\n",
       "      <th>148</th>\n",
       "      <td>5.9</td>\n",
       "      <td>3.0</td>\n",
       "      <td>5.1</td>\n",
       "      <td>1.8</td>\n",
       "    </tr>\n",
       "  </tbody>\n",
       "</table>\n",
       "<p>149 rows × 4 columns</p>\n",
       "</div>"
      ],
      "text/plain": [
       "     5.1  3.5  1.4  0.2\n",
       "0    4.9  3.0  1.4  0.2\n",
       "1    4.7  3.2  1.3  0.2\n",
       "2    4.6  3.1  1.5  0.2\n",
       "3    5.0  3.6  1.4  0.2\n",
       "4    5.4  3.9  1.7  0.4\n",
       "..   ...  ...  ...  ...\n",
       "144  6.7  3.0  5.2  2.3\n",
       "145  6.3  2.5  5.0  1.9\n",
       "146  6.5  3.0  5.2  2.0\n",
       "147  6.2  3.4  5.4  2.3\n",
       "148  5.9  3.0  5.1  1.8\n",
       "\n",
       "[149 rows x 4 columns]"
      ]
     },
     "execution_count": 29,
     "metadata": {},
     "output_type": "execute_result"
    }
   ],
   "source": [
    "prediction_input"
   ]
  },
  {
   "cell_type": "code",
   "execution_count": 30,
   "id": "1bd81b9b",
   "metadata": {},
   "outputs": [],
   "source": [
    "import json\n",
    "\n",
    "with open('prediction_input_container.json', 'w') as json_file:\n",
    "  for row in prediction_input.values.tolist():\n",
    "    json.dump(row, json_file)\n",
    "    json_file.write('\\n')\n",
    "\n",
    "! cat prediction_input.json"
   ]
  },
  {
   "cell_type": "code",
   "execution_count": null,
   "id": "de6e3f40",
   "metadata": {},
   "outputs": [],
   "source": []
  }
 ],
 "metadata": {
  "environment": {
   "name": "common-cpu.m78",
   "type": "gcloud",
   "uri": "gcr.io/deeplearning-platform-release/base-cpu:m78"
  },
  "kernelspec": {
   "display_name": "Python 3",
   "language": "python",
   "name": "python3"
  },
  "language_info": {
   "codemirror_mode": {
    "name": "ipython",
    "version": 3
   },
   "file_extension": ".py",
   "mimetype": "text/x-python",
   "name": "python",
   "nbconvert_exporter": "python",
   "pygments_lexer": "ipython3",
   "version": "3.7.10"
  }
 },
 "nbformat": 4,
 "nbformat_minor": 5
}
