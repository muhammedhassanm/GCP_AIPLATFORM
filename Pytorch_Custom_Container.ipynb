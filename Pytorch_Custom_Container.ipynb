{
 "cells": [
  {
   "cell_type": "code",
   "execution_count": 2,
   "id": "de6394d3",
   "metadata": {},
   "outputs": [
    {
     "name": "stdout",
     "output_type": "stream",
     "text": [
      "Cloning into 'ai-platform-samples'...\n",
      "remote: Enumerating objects: 704, done.\u001b[K\n",
      "remote: Counting objects: 100% (704/704), done.\u001b[K\n",
      "remote: Compressing objects: 100% (491/491), done.\u001b[K\n",
      "remote: Total 704 (delta 256), reused 468 (delta 164), pack-reused 0\u001b[K\n",
      "Receiving objects: 100% (704/704), 31.22 MiB | 19.41 MiB/s, done.\n",
      "Resolving deltas: 100% (256/256), done.\n"
     ]
    }
   ],
   "source": [
    "!git clone --depth=1 \\\n",
    "  https://github.com/GoogleCloudPlatform/ai-platform-samples.git"
   ]
  },
  {
   "cell_type": "code",
   "execution_count": 3,
   "id": "bc778eb5",
   "metadata": {},
   "outputs": [
    {
     "name": "stdout",
     "output_type": "stream",
     "text": [
      "/home/jupyter/ai-platform-samples/training/pytorch/structured/python_package\n"
     ]
    }
   ],
   "source": [
    "%cd ai-platform-samples/training/pytorch/structured/python_package"
   ]
  },
  {
   "cell_type": "code",
   "execution_count": 4,
   "id": "97aa2e6d",
   "metadata": {},
   "outputs": [
    {
     "name": "stdout",
     "output_type": "stream",
     "text": [
      ".:\n",
      "README.md  scripts/  setup.py  trainer/\n",
      "\n",
      "./scripts:\n",
      "train-cloud.sh\ttrain-hptuning.sh  train-local.sh\n",
      "\n",
      "./trainer:\n",
      "__init__.py  experiment.py  inputs.py  metadata.py  model.py  task.py\n"
     ]
    }
   ],
   "source": [
    "!ls -pR"
   ]
  },
  {
   "cell_type": "code",
   "execution_count": 20,
   "id": "368cad23",
   "metadata": {},
   "outputs": [],
   "source": [
    "BUCKET_NAME=\"hassan-ai-platform-temp\"\n",
    "JOB_NAME=\"getting_started_pytorch_cpu\"\n",
    "JOB_DIR = 'gs://' + BUCKET_NAME + '/custom_models'\n",
    "REGION = 'us-west1'"
   ]
  },
  {
   "cell_type": "code",
   "execution_count": 22,
   "id": "62e622bf",
   "metadata": {},
   "outputs": [
    {
     "name": "stdout",
     "output_type": "stream",
     "text": [
      "Job [getting_started_pytorch_cpu] submitted successfully.\n",
      "Your job is still active. You may view the status of your job with the command\n",
      "\n",
      "  $ gcloud ai-platform jobs describe getting_started_pytorch_cpu\n",
      "\n",
      "or continue streaming the logs with the command\n",
      "\n",
      "  $ gcloud ai-platform jobs stream-logs getting_started_pytorch_cpu\n",
      "jobId: getting_started_pytorch_cpu\n",
      "state: QUEUED\n"
     ]
    }
   ],
   "source": [
    "!gcloud ai-platform jobs submit training $JOB_NAME \\\n",
    "  --region=$REGION \\\n",
    "  --master-image-uri=gcr.io/cloud-ml-public/training/pytorch-xla.1-7 \\\n",
    "  --scale-tier=BASIC \\\n",
    "  --job-dir=$JOB_DIR \\\n",
    "  --package-path=trainer/ \\\n",
    "  --module-name=trainer.task \\\n",
    "  -- \\\n",
    "  --train-files=gs://cloud-samples-data/ai-platform/chicago_taxi/training/small/taxi_trips_train.csv \\\n",
    "  --eval-files=gs://cloud-samples-data/ai-platform/chicago_taxi/training/small/taxi_trips_eval.csv \\\n",
    "  --num-epochs=10 \\\n",
    "  --batch-size=100 \\\n",
    "  --learning-rate=0.001"
   ]
  },
  {
   "cell_type": "code",
   "execution_count": 13,
   "id": "5d7319de",
   "metadata": {},
   "outputs": [
    {
     "name": "stdout",
     "output_type": "stream",
     "text": [
      "/home/jupyter/ai-platform-samples/training/pytorch/structured/python_package\n"
     ]
    }
   ],
   "source": [
    "!pwd"
   ]
  },
  {
   "cell_type": "code",
   "execution_count": 24,
   "id": "1ae30515",
   "metadata": {},
   "outputs": [
    {
     "name": "stdout",
     "output_type": "stream",
     "text": [
      "createTime: '2021-08-26T12:45:34Z'\n",
      "endTime: '2021-08-26T12:56:00Z'\n",
      "etag: UhLPTCcFINc=\n",
      "jobId: getting_started_pytorch_cpu\n",
      "startTime: '2021-08-26T12:52:25Z'\n",
      "state: SUCCEEDED\n",
      "trainingInput:\n",
      "  args:\n",
      "  - --train-files=gs://cloud-samples-data/ai-platform/chicago_taxi/training/small/taxi_trips_train.csv\n",
      "  - --eval-files=gs://cloud-samples-data/ai-platform/chicago_taxi/training/small/taxi_trips_eval.csv\n",
      "  - --num-epochs=10\n",
      "  - --batch-size=100\n",
      "  - --learning-rate=0.001\n",
      "  jobDir: gs://hassan-ai-platform-temp/custom_models\n",
      "  masterConfig:\n",
      "    imageUri: gcr.io/cloud-ml-public/training/pytorch-xla.1-7\n",
      "  packageUris:\n",
      "  - gs://hassan-ai-platform-temp/custom_models/packages/8c9210a30e00d56c8ff66280901fe037b7d98640ddec86f1638b2cf7e013a45f/trainer-0.1.tar.gz\n",
      "  pythonModule: trainer.task\n",
      "  region: us-west1\n",
      "trainingOutput:\n",
      "  consumedMLUnits: 0.06\n",
      "\n",
      "View job in the Cloud Console at:\n",
      "https://console.cloud.google.com/mlengine/jobs/getting_started_pytorch_cpu?project=qp-acc-aia-migrate-2021-06\n",
      "\n",
      "View logs at:\n",
      "https://console.cloud.google.com/logs?resource=ml_job%2Fjob_id%2Fgetting_started_pytorch_cpu&project=qp-acc-aia-migrate-2021-06\n"
     ]
    }
   ],
   "source": [
    "!gcloud ai-platform jobs describe getting_started_pytorch_cpu"
   ]
  },
  {
   "cell_type": "code",
   "execution_count": null,
   "id": "6af6c6ef",
   "metadata": {},
   "outputs": [],
   "source": []
  }
 ],
 "metadata": {
  "environment": {
   "name": "common-cpu.m78",
   "type": "gcloud",
   "uri": "gcr.io/deeplearning-platform-release/base-cpu:m78"
  },
  "kernelspec": {
   "display_name": "Python 3",
   "language": "python",
   "name": "python3"
  },
  "language_info": {
   "codemirror_mode": {
    "name": "ipython",
    "version": 3
   },
   "file_extension": ".py",
   "mimetype": "text/x-python",
   "name": "python",
   "nbconvert_exporter": "python",
   "pygments_lexer": "ipython3",
   "version": "3.7.10"
  }
 },
 "nbformat": 4,
 "nbformat_minor": 5
}
